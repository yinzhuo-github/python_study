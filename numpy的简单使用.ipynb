{
  "nbformat": 4,
  "nbformat_minor": 0,
  "metadata": {
    "colab": {
      "name": "numpy的简单使用.ipynb",
      "provenance": [],
      "collapsed_sections": [],
      "authorship_tag": "ABX9TyP9mpTSU29oRR3Gz/E7Azts",
      "include_colab_link": true
    },
    "kernelspec": {
      "display_name": "Python 3",
      "name": "python3"
    },
    "language_info": {
      "name": "python"
    }
  },
  "cells": [
    {
      "cell_type": "markdown",
      "metadata": {
        "id": "view-in-github",
        "colab_type": "text"
      },
      "source": [
        "<a href=\"https://colab.research.google.com/github/yinzhuo-github/python_study/blob/Numpy/numpy%E7%9A%84%E7%AE%80%E5%8D%95%E4%BD%BF%E7%94%A8.ipynb\" target=\"_parent\"><img src=\"https://colab.research.google.com/assets/colab-badge.svg\" alt=\"Open In Colab\"/></a>"
      ]
    },
    {
      "cell_type": "code",
      "metadata": {
        "id": "VpFl15Ir4akm"
      },
      "source": [
        "import numpy as np"
      ],
      "execution_count": null,
      "outputs": []
    },
    {
      "cell_type": "code",
      "metadata": {
        "colab": {
          "base_uri": "https://localhost:8080/"
        },
        "id": "EGFnosmg4lF6",
        "outputId": "f9f47bb4-0ad0-4d74-a093-121d9666047b"
      },
      "source": [
        "# 创建一个数组,类型为<class 'numpy.ndarray'>, array.reshape()\n",
        "\n",
        "arr_1D = np.arange(12) # 生成一个一维的 ndarray\n",
        "print(\"一维：\",\"\\n\",arr_1D)\n",
        "arr_2D = arr_1D.reshape((4, 3))  # reshape后, 转换成一个二维的 ndarray\n",
        "print(\"二维：\",\"\\n\",arr_2D)\n",
        "arr_3D = arr_1D.reshape(2,3,2)   # reshape后, 转换成一个三维的 ndarray，这个(2,3,2)的含义还没搞懂！！\n",
        "print(\"三维：\",\"\\n\",arr_3D)"
      ],
      "execution_count": null,
      "outputs": [
        {
          "output_type": "stream",
          "text": [
            "一维： \n",
            " [ 0  1  2  3  4  5  6  7  8  9 10 11]\n",
            "二维： \n",
            " [[ 0  1  2]\n",
            " [ 3  4  5]\n",
            " [ 6  7  8]\n",
            " [ 9 10 11]]\n",
            "三维： \n",
            " [[[ 0  1]\n",
            "  [ 2  3]\n",
            "  [ 4  5]]\n",
            "\n",
            " [[ 6  7]\n",
            "  [ 8  9]\n",
            "  [10 11]]]\n"
          ],
          "name": "stdout"
        }
      ]
    },
    {
      "cell_type": "code",
      "metadata": {
        "colab": {
          "base_uri": "https://localhost:8080/"
        },
        "id": "OxBlRoDm5Euz",
        "outputId": "6f4203cd-de88-44c5-8b9e-8afe3e31cc17"
      },
      "source": [
        "# 转置transpose, array.T\n",
        "arr_transpose = arr_2D.T\n",
        "print(\"转置后：\", \"\\n\", arr_transpose)"
      ],
      "execution_count": null,
      "outputs": [
        {
          "output_type": "stream",
          "text": [
            "转置后： \n",
            " [[ 0  3  6  9]\n",
            " [ 1  4  7 10]\n",
            " [ 2  5  8 11]]\n"
          ],
          "name": "stdout"
        }
      ]
    },
    {
      "cell_type": "code",
      "metadata": {
        "colab": {
          "base_uri": "https://localhost:8080/"
        },
        "id": "dDXXGLhfPf9T",
        "outputId": "ffd1118b-d0a6-4bb5-8f4a-f74133dcaace"
      },
      "source": [
        "# 矩阵点积, np.dot()\n",
        "arr_dot_product = np.dot(arr_2D, arr_transpose)\n",
        "print(\"矩阵的点积为：\", \"\\n\", arr_dot_product)"
      ],
      "execution_count": null,
      "outputs": [
        {
          "output_type": "stream",
          "text": [
            "矩阵的点积为： \n",
            " [[  5  14  23  32]\n",
            " [ 14  50  86 122]\n",
            " [ 23  86 149 212]\n",
            " [ 32 122 212 302]]\n"
          ],
          "name": "stdout"
        }
      ]
    },
    {
      "cell_type": "code",
      "metadata": {
        "colab": {
          "base_uri": "https://localhost:8080/"
        },
        "id": "8evfoSQuW2jG",
        "outputId": "091dd3d2-4ee3-46dd-9694-eba5ce524d1f"
      },
      "source": [
        "# 查询矩阵信息\n",
        "print(f\"Shape of arr_3D: {arr_3D.shape}\")\n",
        "print(f\"Size of arr_3D: {arr_3D.size}\")\n",
        "print(f\"Type of arr_3D: {arr_3D.dtype}\")"
      ],
      "execution_count": null,
      "outputs": [
        {
          "output_type": "stream",
          "text": [
            "Shape of arr_3D: (2, 3, 2)\n",
            "Size of arr_3D: 12\n",
            "Type of arr_3D: int64\n"
          ],
          "name": "stdout"
        }
      ]
    },
    {
      "cell_type": "code",
      "metadata": {
        "colab": {
          "base_uri": "https://localhost:8080/"
        },
        "id": "TaRNGRiFYnqU",
        "outputId": "1f04493e-fb67-40b8-f8f8-38c07469d91e"
      },
      "source": [
        "# 创建一个内部等距的矩阵， np.linspace()\n",
        "arr3 = np.linspace(2,10,6) #间隔即为：(10-2)/5\n",
        "print(arr3)\n",
        "arr4 = arr3.reshape(2,-1) # -1为占位，numpy可以推测后面的值\n",
        "print(arr4)"
      ],
      "execution_count": null,
      "outputs": [
        {
          "output_type": "stream",
          "text": [
            "[ 2.   3.6  5.2  6.8  8.4 10. ]\n",
            "[[ 2.   3.6  5.2]\n",
            " [ 6.8  8.4 10. ]]\n"
          ],
          "name": "stdout"
        }
      ]
    },
    {
      "cell_type": "code",
      "metadata": {
        "colab": {
          "base_uri": "https://localhost:8080/"
        },
        "id": "bzwTp3-lduuA",
        "outputId": "5b6803a3-ddb4-4cbc-faa8-a0bbf304e0ea"
      },
      "source": [
        "arr_eye1 = np.eye(3)\n",
        "print(\"eye(3):\" ,\"\\n\")\n",
        "print(arr_eye1,\"\\n\"*2)\n",
        "\n",
        "arr_identity1 = np.identity(3)\n",
        "print(\"identity(3):\" ,\"\\n\")\n",
        "print(arr_identity1,\"\\n\"*2)\n",
        "\n",
        "arr_eye2 = np.eye(5)\n",
        "print(\"eye(5):\" ,\"\\n\")\n",
        "print(arr_eye2,\"\\n\"*2)\n",
        "\n",
        "arr_identity2 = np.identity(5)\n",
        "print(\"identity(5):\" ,\"\\n\")\n",
        "print(arr_identity2,\"\\n\"*2)"
      ],
      "execution_count": null,
      "outputs": [
        {
          "output_type": "stream",
          "text": [
            "eye(3): \n",
            "\n",
            "[[1. 0. 0.]\n",
            " [0. 1. 0.]\n",
            " [0. 0. 1.]] \n",
            "\n",
            "\n",
            "identity(3): \n",
            "\n",
            "[[1. 0. 0.]\n",
            " [0. 1. 0.]\n",
            " [0. 0. 1.]] \n",
            "\n",
            "\n",
            "eye(5): \n",
            "\n",
            "[[1. 0. 0. 0. 0.]\n",
            " [0. 1. 0. 0. 0.]\n",
            " [0. 0. 1. 0. 0.]\n",
            " [0. 0. 0. 1. 0.]\n",
            " [0. 0. 0. 0. 1.]] \n",
            "\n",
            "\n",
            "identity(5): \n",
            "\n",
            "[[1. 0. 0. 0. 0.]\n",
            " [0. 1. 0. 0. 0.]\n",
            " [0. 0. 1. 0. 0.]\n",
            " [0. 0. 0. 1. 0.]\n",
            " [0. 0. 0. 0. 1.]] \n",
            "\n",
            "\n"
          ],
          "name": "stdout"
        }
      ]
    }
  ]
}